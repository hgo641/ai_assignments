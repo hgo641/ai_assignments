{
  "nbformat": 4,
  "nbformat_minor": 0,
  "metadata": {
    "colab": {
      "name": "Face_Emotions_Classification_Sample_Code.ipynb",
      "provenance": [],
      "collapsed_sections": [],
      "include_colab_link": true
    },
    "kernelspec": {
      "name": "python3",
      "display_name": "Python 3"
    },
    "accelerator": "GPU"
  },
  "cells": [
    {
      "cell_type": "markdown",
      "metadata": {
        "id": "view-in-github",
        "colab_type": "text"
      },
      "source": [
        "<a href=\"https://colab.research.google.com/github/hgo641/ai_assignments/blob/main/Face_Emotions_Classification_Sample_Code.ipynb\" target=\"_parent\"><img src=\"https://colab.research.google.com/assets/colab-badge.svg\" alt=\"Open In Colab\"/></a>"
      ]
    },
    {
      "cell_type": "markdown",
      "metadata": {
        "id": "J9Q82b2OUQul"
      },
      "source": [
        "# Imports"
      ]
    },
    {
      "cell_type": "code",
      "metadata": {
        "id": "FN0td-zMxioA"
      },
      "source": [
        "import csv\n",
        "import numpy as np\n",
        "import matplotlib.pyplot as plt\n",
        "%matplotlib inline\n",
        "\n",
        "from tensorflow.keras.models import Sequential\n",
        "from tensorflow.keras.layers import Dense, Dropout, Activation, Flatten\n",
        "from tensorflow.keras.layers import Conv2D, MaxPooling2D, BatchNormalization\n",
        "from tensorflow.keras.losses import categorical_crossentropy\n",
        "from tensorflow.keras.optimizers import Adam\n",
        "from tensorflow.keras.regularizers import l2\n",
        "from sklearn.model_selection import train_test_split"
      ],
      "execution_count": 1,
      "outputs": []
    },
    {
      "cell_type": "code",
      "metadata": {
        "id": "r1SawJ5aN7IA",
        "colab": {
          "base_uri": "https://localhost:8080/"
        },
        "outputId": "6d140452-b839-4859-99d7-92033f59aa54"
      },
      "source": [
        "# connect your google drive to access data\n",
        "from google.colab import drive\n",
        "drive.mount('/content/drive')"
      ],
      "execution_count": 2,
      "outputs": [
        {
          "output_type": "stream",
          "name": "stdout",
          "text": [
            "Drive already mounted at /content/drive; to attempt to forcibly remount, call drive.mount(\"/content/drive\", force_remount=True).\n"
          ]
        }
      ]
    },
    {
      "cell_type": "code",
      "metadata": {
        "id": "I_WxH0dmxkzP"
      },
      "source": [
        "fer2013_dataset_file_path = 'drive/My Drive/ai5/fer2013.csv'"
      ],
      "execution_count": 3,
      "outputs": []
    },
    {
      "cell_type": "code",
      "metadata": {
        "id": "yWKlKWUmxkw-"
      },
      "source": [
        "train_images = []\n",
        "train_labels = []\n",
        "\n",
        "val_images = []\n",
        "val_labels = []\n",
        "\n",
        "test_images = []\n",
        "test_labels = []\n",
        "\n",
        "with open(fer2013_dataset_file_path) as csv_file:\n",
        "  csv_reader = csv.reader(csv_file, delimiter=',')\n",
        "  for row_id, row in enumerate(csv_reader):\n",
        "    if row_id == 0:\n",
        "      continue\n",
        "    label = np.zeros(7)\n",
        "    label[int(row[0])] = 1\n",
        "\n",
        "    image = list(map(int, row[1].split(' ')))\n",
        "    \n",
        "    if row[2] == 'Training':\n",
        "      train_labels.append(label)\n",
        "      train_images.append(image)\n",
        "    elif row[2] == 'PublicTest':\n",
        "      test_labels.append(label)\n",
        "      test_images.append(image)\n",
        "    elif row[2] == 'PrivateTest':\n",
        "      val_labels.append(label)\n",
        "      val_images.append(image)\n",
        "\n",
        "train_labels = np.asarray(train_labels, dtype=np.float32)\n",
        "train_images = np.asarray(train_images, dtype=np.float32).reshape(-1, 48, 48, 1)\n",
        "\n",
        "val_labels = np.asarray(val_labels, dtype=np.float32)\n",
        "val_images = np.asarray(val_images, dtype=np.float32).reshape(-1, 48, 48, 1)\n",
        "\n",
        "test_labels = np.asarray(test_labels, dtype=np.float32)\n",
        "test_images = np.asarray(test_images, dtype=np.float32).reshape(-1, 48, 48, 1)\n"
      ],
      "execution_count": 4,
      "outputs": []
    },
    {
      "cell_type": "code",
      "source": [
        ""
      ],
      "metadata": {
        "id": "hgImm0qMlLjK"
      },
      "execution_count": 4,
      "outputs": []
    },
    {
      "cell_type": "code",
      "metadata": {
        "id": "PClDA3PExku0",
        "colab": {
          "base_uri": "https://localhost:8080/"
        },
        "outputId": "07ee7f3e-517e-4a3b-8666-6a572136d6d3"
      },
      "source": [
        "print('Train images:', train_images.shape)\n",
        "print('Train labels:', train_labels.shape)\n",
        "\n",
        "print('Val images:', val_images.shape)\n",
        "print('Val labels:', val_labels.shape)\n",
        "\n",
        "print('Test images:', test_images.shape)\n",
        "print('Test labels:', test_labels.shape)"
      ],
      "execution_count": 5,
      "outputs": [
        {
          "output_type": "stream",
          "name": "stdout",
          "text": [
            "Train images: (28709, 48, 48, 1)\n",
            "Train labels: (28709, 7)\n",
            "Val images: (3589, 48, 48, 1)\n",
            "Val labels: (3589, 7)\n",
            "Test images: (3589, 48, 48, 1)\n",
            "Test labels: (3589, 7)\n"
          ]
        }
      ]
    },
    {
      "cell_type": "code",
      "metadata": {
        "id": "y01HTLVFxkri"
      },
      "source": [
        "# normalization\n",
        "train_images /= 255\n",
        "val_images /= 255\n",
        "test_images /= 255"
      ],
      "execution_count": 6,
      "outputs": []
    },
    {
      "cell_type": "code",
      "metadata": {
        "id": "qDVE1HN81u6E"
      },
      "source": [
        ""
      ],
      "execution_count": 6,
      "outputs": []
    },
    {
      "cell_type": "markdown",
      "metadata": {
        "id": "FgZwcqlF1wGm"
      },
      "source": [
        "# Print Data Instance"
      ]
    },
    {
      "cell_type": "code",
      "metadata": {
        "id": "FSVn4EiW1yCy"
      },
      "source": [
        "emotions = {\n",
        "    0: 'Angry', \n",
        "    1: 'Disgust',\n",
        "    2: 'Fear', \n",
        "    3: 'Happy',\n",
        "    4: 'Sad', \n",
        "    5: 'Surprise', \n",
        "    6: 'Neutral'\n",
        "}"
      ],
      "execution_count": 7,
      "outputs": []
    },
    {
      "cell_type": "code",
      "metadata": {
        "id": "GAKK_t2_1yt5",
        "colab": {
          "base_uri": "https://localhost:8080/",
          "height": 342
        },
        "outputId": "0063fc31-e9af-44c9-cbe0-4fe26baddef1"
      },
      "source": [
        "index = 5\n",
        "print('Label array:', train_labels[index], '\\nLabel:', np.argmax(train_labels[index]),\n",
        "      '\\nEmotion:', emotions[np.argmax(train_labels[index])],\n",
        "      '\\nImage shape:', train_images[index].shape)\n",
        "plt.imshow(train_images[index].reshape(48, 48), cmap='gray')\n",
        "plt.show()"
      ],
      "execution_count": 8,
      "outputs": [
        {
          "output_type": "stream",
          "name": "stdout",
          "text": [
            "Label array: [0. 0. 1. 0. 0. 0. 0.] \n",
            "Label: 2 \n",
            "Emotion: Fear \n",
            "Image shape: (48, 48, 1)\n"
          ]
        },
        {
          "output_type": "display_data",
          "data": {
            "text/plain": [
              "<Figure size 432x288 with 1 Axes>"
            ],
            "image/png": "[encoded data removed]"
          },
          "metadata": {
            "needs_background": "light"
          }
        }
      ]
    },
    {
      "cell_type": "code",
      "metadata": {
        "id": "ll1MEjIs1y3d"
      },
      "source": [
        ""
      ],
      "execution_count": 8,
      "outputs": []
    },
    {
      "cell_type": "markdown",
      "metadata": {
        "id": "HjvULu3M3A-U"
      },
      "source": [
        "# Prepare Model"
      ]
    },
    {
      "cell_type": "code",
      "metadata": {
        "id": "ocLFyI9W2_xN"
      },
      "source": [
        "\n"
      ],
      "execution_count": 8,
      "outputs": []
    },
    {
      "cell_type": "code",
      "source": [
        "from tensorflow.keras.layers import AveragePooling2D\n",
        "from keras.initializers import  RandomNormal\n",
        "input_shape = (48, 48, 1)\n",
        "num_labels = 7\n",
        "\n",
        "num_features = 64\n",
        "\n",
        "model = Sequential()\n",
        "\n",
        "# layer 7개로 증가시킴\n",
        "# 커널 개수 128개로 증가시킴\n",
        "\n",
        "# 1st convolution layer\n",
        "model.add(Conv2D(128, (3, 3), activation='relu', padding = 'same', input_shape=input_shape, bias_initializer=RandomNormal(stddev=1), kernel_initializer=RandomNormal(stddev=1)))\n",
        "model.add(Conv2D(128, (3, 3), activation='relu', padding = 'same', input_shape=input_shape, bias_initializer=RandomNormal(stddev=1), kernel_initializer=RandomNormal(stddev=1)))\n",
        "model.add(BatchNormalization())\n",
        "model.add(MaxPooling2D(pool_size=(3,3), strides=(2, 2)))\n",
        "model.add(Dropout(0.25))\n",
        "\n",
        "# 3rd convolution layer\n",
        "model.add(Conv2D(128, (3, 3), activation='relu', padding = 'same', bias_initializer=RandomNormal(stddev=1), kernel_initializer=RandomNormal(stddev=1)))\n",
        "model.add(Conv2D(128, (3, 3), activation='relu', padding = 'same', bias_initializer=RandomNormal(stddev=1), kernel_initializer=RandomNormal(stddev=1)))\n",
        "model.add(BatchNormalization())\n",
        "model.add(MaxPooling2D(pool_size=(3,3), strides=(2, 2)))\n",
        "model.add(Dropout(0.25))\n",
        "          \n",
        "# 5th convolution layer\n",
        "model.add(Conv2D(128, (3, 3), activation='relu', padding = 'same', bias_initializer=RandomNormal(stddev=1), kernel_initializer=RandomNormal(stddev=1)))\n",
        "model.add(Conv2D(128, (3, 3), activation='relu', padding = 'same', bias_initializer=RandomNormal(stddev=1), kernel_initializer=RandomNormal(stddev=1)))\n",
        "model.add(BatchNormalization())\n",
        "model.add(MaxPooling2D(pool_size=(3,3), strides=(2, 2)))\n",
        "model.add(Dropout(0.25))\n",
        "\n",
        "# 7th convolution layer\n",
        "model.add(Conv2D(128, (3, 3), activation='relu', padding = 'same', bias_initializer=RandomNormal(stddev=1), kernel_initializer=RandomNormal(stddev=1)))\n",
        "model.add(Conv2D(128, (3, 3), activation='relu', padding = 'same', bias_initializer=RandomNormal(stddev=1), kernel_initializer=RandomNormal(stddev=1)))\n",
        "model.add(BatchNormalization())\n",
        "model.add(MaxPooling2D(pool_size=(3,3), strides=(2, 2)))\n",
        "model.add(Dropout(0.5))\n",
        "\n",
        "\n",
        "model.add(Flatten())\n",
        "# Fully connected layers\n",
        "model.add(Dense(2048, activation='relu'))\n",
        "model.add(Dropout(0.5))\n",
        "model.add(Dense(num_labels, activation='softmax'))\n",
        "\n",
        "\n",
        "model.summary()\n",
        "\n"
      ],
      "metadata": {
        "colab": {
          "base_uri": "https://localhost:8080/"
        },
        "id": "y6BJbAyWe-NX",
        "outputId": "09500164-906b-4ed4-d53b-31d7917f9343"
      },
      "execution_count": 13,
      "outputs": [
        {
          "output_type": "stream",
          "name": "stdout",
          "text": [
            "Model: \"sequential_2\"\n",
            "_________________________________________________________________\n",
            " Layer (type)                Output Shape              Param #   \n",
            "=================================================================\n",
            " conv2d_16 (Conv2D)          (None, 48, 48, 128)       1280      \n",
            "                                                                 \n",
            " conv2d_17 (Conv2D)          (None, 48, 48, 128)       147584    \n",
            "                                                                 \n",
            " batch_normalization_8 (Batc  (None, 48, 48, 128)      512       \n",
            " hNormalization)                                                 \n",
            "                                                                 \n",
            " max_pooling2d_8 (MaxPooling  (None, 23, 23, 128)      0         \n",
            " 2D)                                                             \n",
            "                                                                 \n",
            " dropout_10 (Dropout)        (None, 23, 23, 128)       0         \n",
            "                                                                 \n",
            " conv2d_18 (Conv2D)          (None, 23, 23, 128)       147584    \n",
            "                                                                 \n",
            " conv2d_19 (Conv2D)          (None, 23, 23, 128)       147584    \n",
            "                                                                 \n",
            " batch_normalization_9 (Batc  (None, 23, 23, 128)      512       \n",
            " hNormalization)                                                 \n",
            "                                                                 \n",
            " max_pooling2d_9 (MaxPooling  (None, 11, 11, 128)      0         \n",
            " 2D)                                                             \n",
            "                                                                 \n",
            " dropout_11 (Dropout)        (None, 11, 11, 128)       0         \n",
            "                                                                 \n",
            " conv2d_20 (Conv2D)          (None, 11, 11, 128)       147584    \n",
            "                                                                 \n",
            " conv2d_21 (Conv2D)          (None, 11, 11, 128)       147584    \n",
            "                                                                 \n",
            " batch_normalization_10 (Bat  (None, 11, 11, 128)      512       \n",
            " chNormalization)                                                \n",
            "                                                                 \n",
            " max_pooling2d_10 (MaxPoolin  (None, 5, 5, 128)        0         \n",
            " g2D)                                                            \n",
            "                                                                 \n",
            " dropout_12 (Dropout)        (None, 5, 5, 128)         0         \n",
            "                                                                 \n",
            " conv2d_22 (Conv2D)          (None, 5, 5, 128)         147584    \n",
            "                                                                 \n",
            " conv2d_23 (Conv2D)          (None, 5, 5, 128)         147584    \n",
            "                                                                 \n",
            " batch_normalization_11 (Bat  (None, 5, 5, 128)        512       \n",
            " chNormalization)                                                \n",
            "                                                                 \n",
            " max_pooling2d_11 (MaxPoolin  (None, 2, 2, 128)        0         \n",
            " g2D)                                                            \n",
            "                                                                 \n",
            " dropout_13 (Dropout)        (None, 2, 2, 128)         0         \n",
            "                                                                 \n",
            " flatten_2 (Flatten)         (None, 512)               0         \n",
            "                                                                 \n",
            " dense_4 (Dense)             (None, 2048)              1050624   \n",
            "                                                                 \n",
            " dropout_14 (Dropout)        (None, 2048)              0         \n",
            "                                                                 \n",
            " dense_5 (Dense)             (None, 7)                 14343     \n",
            "                                                                 \n",
            "=================================================================\n",
            "Total params: 2,101,383\n",
            "Trainable params: 2,100,359\n",
            "Non-trainable params: 1,024\n",
            "_________________________________________________________________\n"
          ]
        }
      ]
    },
    {
      "cell_type": "code",
      "metadata": {
        "id": "s6hBP7VF2_u9",
        "colab": {
          "base_uri": "https://localhost:8080/"
        },
        "outputId": "7f7e3344-21d7-410c-8f15-e982ec228a3d"
      },
      "source": [
        "batch_size = 512\n",
        "# epochs 100으로 증가\n",
        "epochs = 100\n",
        "\n",
        "#Compliling the model with adam optimixer and categorical crossentropy loss\n",
        "model.compile(loss=categorical_crossentropy,\n",
        "              optimizer=Adam(learning_rate=0.001, beta_1=0.9, beta_2=0.999, epsilon=1e-7),\n",
        "              metrics=['accuracy'])\n",
        "\n",
        "#training the model\n",
        "train_history = model.fit(\n",
        "    train_images, train_labels, \n",
        "    batch_size=batch_size, \n",
        "    epochs=epochs, \n",
        "    validation_data=(val_images, val_labels), \n",
        "    verbose=1)"
      ],
      "execution_count": 14,
      "outputs": [
        {
          "output_type": "stream",
          "name": "stdout",
          "text": [
            "Epoch 1/100\n",
            "57/57 [==============================] - 30s 422ms/step - loss: 2.6082 - accuracy: 0.2017 - val_loss: 1.8567 - val_accuracy: 0.1889\n",
            "Epoch 2/100\n",
            "57/57 [==============================] - 22s 384ms/step - loss: 1.8381 - accuracy: 0.2345 - val_loss: 1.8494 - val_accuracy: 0.2285\n",
            "Epoch 3/100\n",
            "57/57 [==============================] - 21s 373ms/step - loss: 1.8133 - accuracy: 0.2438 - val_loss: 1.7935 - val_accuracy: 0.2566\n",
            "Epoch 4/100\n",
            "57/57 [==============================] - 21s 370ms/step - loss: 1.7934 - accuracy: 0.2520 - val_loss: 1.7750 - val_accuracy: 0.2669\n",
            "Epoch 5/100\n",
            "57/57 [==============================] - 21s 375ms/step - loss: 1.7885 - accuracy: 0.2515 - val_loss: 1.8136 - val_accuracy: 0.2722\n",
            "Epoch 6/100\n",
            "57/57 [==============================] - 21s 376ms/step - loss: 1.7744 - accuracy: 0.2613 - val_loss: 1.8011 - val_accuracy: 0.2728\n",
            "Epoch 7/100\n",
            "57/57 [==============================] - 21s 375ms/step - loss: 1.7627 - accuracy: 0.2729 - val_loss: 1.8192 - val_accuracy: 0.2758\n",
            "Epoch 8/100\n",
            "57/57 [==============================] - 21s 376ms/step - loss: 1.7536 - accuracy: 0.2758 - val_loss: 1.8670 - val_accuracy: 0.2753\n",
            "Epoch 9/100\n",
            "57/57 [==============================] - 21s 376ms/step - loss: 1.7409 - accuracy: 0.2854 - val_loss: 1.7706 - val_accuracy: 0.3093\n",
            "Epoch 10/100\n",
            "57/57 [==============================] - 21s 376ms/step - loss: 1.7256 - accuracy: 0.2967 - val_loss: 1.7384 - val_accuracy: 0.3238\n",
            "Epoch 11/100\n",
            "57/57 [==============================] - 21s 376ms/step - loss: 1.6945 - accuracy: 0.3157 - val_loss: 1.8059 - val_accuracy: 0.3185\n",
            "Epoch 12/100\n",
            "57/57 [==============================] - 21s 376ms/step - loss: 1.6703 - accuracy: 0.3323 - val_loss: 1.7075 - val_accuracy: 0.3385\n",
            "Epoch 13/100\n",
            "57/57 [==============================] - 21s 376ms/step - loss: 1.6391 - accuracy: 0.3452 - val_loss: 1.7288 - val_accuracy: 0.3087\n",
            "Epoch 14/100\n",
            "57/57 [==============================] - 21s 376ms/step - loss: 1.6174 - accuracy: 0.3569 - val_loss: 1.5637 - val_accuracy: 0.3867\n",
            "Epoch 15/100\n",
            "57/57 [==============================] - 21s 376ms/step - loss: 1.5927 - accuracy: 0.3696 - val_loss: 1.6738 - val_accuracy: 0.3834\n",
            "Epoch 16/100\n",
            "57/57 [==============================] - 21s 376ms/step - loss: 1.5719 - accuracy: 0.3810 - val_loss: 1.6048 - val_accuracy: 0.3711\n",
            "Epoch 17/100\n",
            "57/57 [==============================] - 21s 376ms/step - loss: 1.5503 - accuracy: 0.3882 - val_loss: 1.5190 - val_accuracy: 0.4191\n",
            "Epoch 18/100\n",
            "57/57 [==============================] - 21s 376ms/step - loss: 1.5329 - accuracy: 0.3976 - val_loss: 1.4909 - val_accuracy: 0.4185\n",
            "Epoch 19/100\n",
            "57/57 [==============================] - 21s 376ms/step - loss: 1.5151 - accuracy: 0.4064 - val_loss: 1.5677 - val_accuracy: 0.4146\n",
            "Epoch 20/100\n",
            "57/57 [==============================] - 22s 383ms/step - loss: 1.4998 - accuracy: 0.4126 - val_loss: 1.6924 - val_accuracy: 0.4021\n",
            "Epoch 21/100\n",
            "57/57 [==============================] - 21s 376ms/step - loss: 1.4897 - accuracy: 0.4175 - val_loss: 1.4486 - val_accuracy: 0.4436\n",
            "Epoch 22/100\n",
            "57/57 [==============================] - 21s 376ms/step - loss: 1.4703 - accuracy: 0.4266 - val_loss: 1.4476 - val_accuracy: 0.4447\n",
            "Epoch 23/100\n",
            "57/57 [==============================] - 21s 376ms/step - loss: 1.4553 - accuracy: 0.4266 - val_loss: 1.4658 - val_accuracy: 0.4472\n",
            "Epoch 24/100\n",
            "57/57 [==============================] - 21s 376ms/step - loss: 1.4446 - accuracy: 0.4382 - val_loss: 1.4618 - val_accuracy: 0.4558\n",
            "Epoch 25/100\n",
            "57/57 [==============================] - 21s 376ms/step - loss: 1.4252 - accuracy: 0.4447 - val_loss: 1.3962 - val_accuracy: 0.4709\n",
            "Epoch 26/100\n",
            "57/57 [==============================] - 21s 376ms/step - loss: 1.4156 - accuracy: 0.4482 - val_loss: 1.4270 - val_accuracy: 0.4597\n",
            "Epoch 27/100\n",
            "57/57 [==============================] - 21s 376ms/step - loss: 1.3975 - accuracy: 0.4569 - val_loss: 1.3657 - val_accuracy: 0.4787\n",
            "Epoch 28/100\n",
            "57/57 [==============================] - 21s 376ms/step - loss: 1.3879 - accuracy: 0.4627 - val_loss: 1.3621 - val_accuracy: 0.4801\n",
            "Epoch 29/100\n",
            "57/57 [==============================] - 21s 376ms/step - loss: 1.3798 - accuracy: 0.4657 - val_loss: 1.4724 - val_accuracy: 0.4528\n",
            "Epoch 30/100\n",
            "57/57 [==============================] - 21s 376ms/step - loss: 1.3656 - accuracy: 0.4716 - val_loss: 1.4242 - val_accuracy: 0.4695\n",
            "Epoch 31/100\n",
            "57/57 [==============================] - 21s 376ms/step - loss: 1.3585 - accuracy: 0.4765 - val_loss: 1.3475 - val_accuracy: 0.4926\n",
            "Epoch 32/100\n",
            "57/57 [==============================] - 21s 376ms/step - loss: 1.3445 - accuracy: 0.4752 - val_loss: 1.3440 - val_accuracy: 0.4918\n",
            "Epoch 33/100\n",
            "57/57 [==============================] - 21s 376ms/step - loss: 1.3445 - accuracy: 0.4793 - val_loss: 1.3320 - val_accuracy: 0.4982\n",
            "Epoch 34/100\n",
            "57/57 [==============================] - 21s 376ms/step - loss: 1.3288 - accuracy: 0.4857 - val_loss: 1.3548 - val_accuracy: 0.4845\n",
            "Epoch 35/100\n",
            "57/57 [==============================] - 21s 376ms/step - loss: 1.3204 - accuracy: 0.4904 - val_loss: 1.2974 - val_accuracy: 0.5038\n",
            "Epoch 36/100\n",
            "57/57 [==============================] - 21s 376ms/step - loss: 1.3143 - accuracy: 0.4918 - val_loss: 1.3066 - val_accuracy: 0.5049\n",
            "Epoch 37/100\n",
            "57/57 [==============================] - 21s 375ms/step - loss: 1.3034 - accuracy: 0.4985 - val_loss: 1.3086 - val_accuracy: 0.5132\n",
            "Epoch 38/100\n",
            "57/57 [==============================] - 21s 376ms/step - loss: 1.2934 - accuracy: 0.5006 - val_loss: 1.2970 - val_accuracy: 0.5149\n",
            "Epoch 39/100\n",
            "57/57 [==============================] - 21s 376ms/step - loss: 1.2846 - accuracy: 0.5040 - val_loss: 1.2584 - val_accuracy: 0.5210\n",
            "Epoch 40/100\n",
            "57/57 [==============================] - 21s 376ms/step - loss: 1.2783 - accuracy: 0.5089 - val_loss: 1.3168 - val_accuracy: 0.5085\n",
            "Epoch 41/100\n",
            "57/57 [==============================] - 21s 376ms/step - loss: 1.2679 - accuracy: 0.5119 - val_loss: 1.2797 - val_accuracy: 0.5238\n",
            "Epoch 42/100\n",
            "57/57 [==============================] - 21s 376ms/step - loss: 1.2557 - accuracy: 0.5174 - val_loss: 1.3181 - val_accuracy: 0.5054\n",
            "Epoch 43/100\n",
            "57/57 [==============================] - 21s 376ms/step - loss: 1.2543 - accuracy: 0.5205 - val_loss: 1.2607 - val_accuracy: 0.5185\n",
            "Epoch 44/100\n",
            "57/57 [==============================] - 21s 376ms/step - loss: 1.2516 - accuracy: 0.5179 - val_loss: 1.2551 - val_accuracy: 0.5210\n",
            "Epoch 45/100\n",
            "57/57 [==============================] - 21s 376ms/step - loss: 1.2422 - accuracy: 0.5228 - val_loss: 1.2400 - val_accuracy: 0.5266\n",
            "Epoch 46/100\n",
            "57/57 [==============================] - 21s 376ms/step - loss: 1.2353 - accuracy: 0.5273 - val_loss: 1.2675 - val_accuracy: 0.5174\n",
            "Epoch 47/100\n",
            "57/57 [==============================] - 21s 376ms/step - loss: 1.2280 - accuracy: 0.5291 - val_loss: 1.2227 - val_accuracy: 0.5358\n",
            "Epoch 48/100\n",
            "57/57 [==============================] - 21s 376ms/step - loss: 1.2239 - accuracy: 0.5320 - val_loss: 1.2649 - val_accuracy: 0.5196\n",
            "Epoch 49/100\n",
            "57/57 [==============================] - 21s 376ms/step - loss: 1.2090 - accuracy: 0.5339 - val_loss: 1.2062 - val_accuracy: 0.5450\n",
            "Epoch 50/100\n",
            "57/57 [==============================] - 21s 376ms/step - loss: 1.2035 - accuracy: 0.5397 - val_loss: 1.2140 - val_accuracy: 0.5352\n",
            "Epoch 51/100\n",
            "57/57 [==============================] - 21s 376ms/step - loss: 1.1985 - accuracy: 0.5405 - val_loss: 1.2135 - val_accuracy: 0.5450\n",
            "Epoch 52/100\n",
            "57/57 [==============================] - 21s 376ms/step - loss: 1.1931 - accuracy: 0.5418 - val_loss: 1.2189 - val_accuracy: 0.5461\n",
            "Epoch 53/100\n",
            "57/57 [==============================] - 21s 376ms/step - loss: 1.1942 - accuracy: 0.5445 - val_loss: 1.2164 - val_accuracy: 0.5528\n",
            "Epoch 54/100\n",
            "57/57 [==============================] - 21s 376ms/step - loss: 1.1788 - accuracy: 0.5495 - val_loss: 1.1819 - val_accuracy: 0.5628\n",
            "Epoch 55/100\n",
            "57/57 [==============================] - 21s 376ms/step - loss: 1.1778 - accuracy: 0.5500 - val_loss: 1.2684 - val_accuracy: 0.5277\n",
            "Epoch 56/100\n",
            "57/57 [==============================] - 21s 376ms/step - loss: 1.1703 - accuracy: 0.5544 - val_loss: 1.1988 - val_accuracy: 0.5564\n",
            "Epoch 57/100\n",
            "57/57 [==============================] - 21s 376ms/step - loss: 1.1664 - accuracy: 0.5522 - val_loss: 1.1637 - val_accuracy: 0.5614\n",
            "Epoch 58/100\n",
            "57/57 [==============================] - 21s 376ms/step - loss: 1.1595 - accuracy: 0.5567 - val_loss: 1.2315 - val_accuracy: 0.5469\n",
            "Epoch 59/100\n",
            "57/57 [==============================] - 21s 376ms/step - loss: 1.1507 - accuracy: 0.5610 - val_loss: 1.1939 - val_accuracy: 0.5648\n",
            "Epoch 60/100\n",
            "57/57 [==============================] - 21s 376ms/step - loss: 1.1491 - accuracy: 0.5627 - val_loss: 1.2419 - val_accuracy: 0.5358\n",
            "Epoch 61/100\n",
            "57/57 [==============================] - 21s 376ms/step - loss: 1.1437 - accuracy: 0.5638 - val_loss: 1.1606 - val_accuracy: 0.5662\n",
            "Epoch 62/100\n",
            "57/57 [==============================] - 21s 376ms/step - loss: 1.1374 - accuracy: 0.5643 - val_loss: 1.1577 - val_accuracy: 0.5729\n",
            "Epoch 63/100\n",
            "57/57 [==============================] - 21s 376ms/step - loss: 1.1273 - accuracy: 0.5723 - val_loss: 1.1689 - val_accuracy: 0.5606\n",
            "Epoch 64/100\n",
            "57/57 [==============================] - 21s 376ms/step - loss: 1.1270 - accuracy: 0.5705 - val_loss: 1.1646 - val_accuracy: 0.5681\n",
            "Epoch 65/100\n",
            "57/57 [==============================] - 21s 376ms/step - loss: 1.1244 - accuracy: 0.5704 - val_loss: 1.1391 - val_accuracy: 0.5798\n",
            "Epoch 66/100\n",
            "57/57 [==============================] - 21s 376ms/step - loss: 1.1143 - accuracy: 0.5754 - val_loss: 1.1452 - val_accuracy: 0.5726\n",
            "Epoch 67/100\n",
            "57/57 [==============================] - 21s 376ms/step - loss: 1.1123 - accuracy: 0.5791 - val_loss: 1.1808 - val_accuracy: 0.5717\n",
            "Epoch 68/100\n",
            "57/57 [==============================] - 21s 376ms/step - loss: 1.1024 - accuracy: 0.5793 - val_loss: 1.1466 - val_accuracy: 0.5779\n",
            "Epoch 69/100\n",
            "57/57 [==============================] - 21s 376ms/step - loss: 1.1033 - accuracy: 0.5801 - val_loss: 1.1410 - val_accuracy: 0.5776\n",
            "Epoch 70/100\n",
            "57/57 [==============================] - 21s 376ms/step - loss: 1.0971 - accuracy: 0.5824 - val_loss: 1.1266 - val_accuracy: 0.5879\n",
            "Epoch 71/100\n",
            "57/57 [==============================] - 21s 376ms/step - loss: 1.0909 - accuracy: 0.5827 - val_loss: 1.1556 - val_accuracy: 0.5662\n",
            "Epoch 72/100\n",
            "57/57 [==============================] - 21s 375ms/step - loss: 1.0878 - accuracy: 0.5873 - val_loss: 1.1523 - val_accuracy: 0.5745\n",
            "Epoch 73/100\n",
            "57/57 [==============================] - 21s 376ms/step - loss: 1.0820 - accuracy: 0.5847 - val_loss: 1.1043 - val_accuracy: 0.5885\n",
            "Epoch 74/100\n",
            "57/57 [==============================] - 22s 383ms/step - loss: 1.0775 - accuracy: 0.5913 - val_loss: 1.0935 - val_accuracy: 0.6043\n",
            "Epoch 75/100\n",
            "57/57 [==============================] - 21s 376ms/step - loss: 1.0786 - accuracy: 0.5901 - val_loss: 1.1657 - val_accuracy: 0.5737\n",
            "Epoch 76/100\n",
            "57/57 [==============================] - 21s 376ms/step - loss: 1.0662 - accuracy: 0.5939 - val_loss: 1.1586 - val_accuracy: 0.5743\n",
            "Epoch 77/100\n",
            "57/57 [==============================] - 21s 376ms/step - loss: 1.0586 - accuracy: 0.5983 - val_loss: 1.1666 - val_accuracy: 0.5768\n",
            "Epoch 78/100\n",
            "57/57 [==============================] - 21s 376ms/step - loss: 1.0628 - accuracy: 0.5972 - val_loss: 1.1213 - val_accuracy: 0.5926\n",
            "Epoch 79/100\n",
            "57/57 [==============================] - 21s 376ms/step - loss: 1.0590 - accuracy: 0.5966 - val_loss: 1.0917 - val_accuracy: 0.5943\n",
            "Epoch 80/100\n",
            "57/57 [==============================] - 21s 376ms/step - loss: 1.0482 - accuracy: 0.6037 - val_loss: 1.1252 - val_accuracy: 0.5798\n",
            "Epoch 81/100\n",
            "57/57 [==============================] - 21s 375ms/step - loss: 1.0424 - accuracy: 0.6051 - val_loss: 1.1293 - val_accuracy: 0.5795\n",
            "Epoch 82/100\n",
            "57/57 [==============================] - 21s 376ms/step - loss: 1.0459 - accuracy: 0.6044 - val_loss: 1.1126 - val_accuracy: 0.5943\n",
            "Epoch 83/100\n",
            "57/57 [==============================] - 21s 376ms/step - loss: 1.0425 - accuracy: 0.6035 - val_loss: 1.1167 - val_accuracy: 0.5876\n",
            "Epoch 84/100\n",
            "57/57 [==============================] - 21s 376ms/step - loss: 1.0305 - accuracy: 0.6098 - val_loss: 1.1467 - val_accuracy: 0.5913\n",
            "Epoch 85/100\n",
            "57/57 [==============================] - 21s 376ms/step - loss: 1.0341 - accuracy: 0.6096 - val_loss: 1.1137 - val_accuracy: 0.5971\n",
            "Epoch 86/100\n",
            "57/57 [==============================] - 21s 376ms/step - loss: 1.0256 - accuracy: 0.6103 - val_loss: 1.1775 - val_accuracy: 0.5848\n",
            "Epoch 87/100\n",
            "57/57 [==============================] - 21s 376ms/step - loss: 1.0232 - accuracy: 0.6118 - val_loss: 1.1396 - val_accuracy: 0.5907\n",
            "Epoch 88/100\n",
            "57/57 [==============================] - 21s 376ms/step - loss: 1.0142 - accuracy: 0.6180 - val_loss: 1.1049 - val_accuracy: 0.5940\n",
            "Epoch 89/100\n",
            "57/57 [==============================] - 21s 376ms/step - loss: 1.0178 - accuracy: 0.6159 - val_loss: 1.1404 - val_accuracy: 0.5876\n",
            "Epoch 90/100\n",
            "57/57 [==============================] - 21s 376ms/step - loss: 1.0091 - accuracy: 0.6187 - val_loss: 1.1138 - val_accuracy: 0.5949\n",
            "Epoch 91/100\n",
            "57/57 [==============================] - 21s 376ms/step - loss: 1.0057 - accuracy: 0.6186 - val_loss: 1.1004 - val_accuracy: 0.6018\n",
            "Epoch 92/100\n",
            "57/57 [==============================] - 21s 376ms/step - loss: 0.9990 - accuracy: 0.6199 - val_loss: 1.1258 - val_accuracy: 0.5974\n",
            "Epoch 93/100\n",
            "57/57 [==============================] - 21s 376ms/step - loss: 0.9960 - accuracy: 0.6226 - val_loss: 1.0998 - val_accuracy: 0.6002\n",
            "Epoch 94/100\n",
            "57/57 [==============================] - 21s 376ms/step - loss: 0.9826 - accuracy: 0.6267 - val_loss: 1.1088 - val_accuracy: 0.6091\n",
            "Epoch 95/100\n",
            "57/57 [==============================] - 21s 376ms/step - loss: 0.9958 - accuracy: 0.6233 - val_loss: 1.1184 - val_accuracy: 0.6010\n",
            "Epoch 96/100\n",
            "57/57 [==============================] - 21s 376ms/step - loss: 0.9804 - accuracy: 0.6286 - val_loss: 1.2009 - val_accuracy: 0.5940\n",
            "Epoch 97/100\n",
            "57/57 [==============================] - 21s 376ms/step - loss: 0.9859 - accuracy: 0.6256 - val_loss: 1.1066 - val_accuracy: 0.6069\n",
            "Epoch 98/100\n",
            "57/57 [==============================] - 21s 376ms/step - loss: 0.9781 - accuracy: 0.6312 - val_loss: 1.1170 - val_accuracy: 0.6043\n",
            "Epoch 99/100\n",
            "57/57 [==============================] - 21s 376ms/step - loss: 0.9757 - accuracy: 0.6317 - val_loss: 1.1208 - val_accuracy: 0.6046\n",
            "Epoch 100/100\n",
            "57/57 [==============================] - 21s 375ms/step - loss: 0.9704 - accuracy: 0.6326 - val_loss: 1.0771 - val_accuracy: 0.6147\n"
          ]
        }
      ]
    },
    {
      "cell_type": "code",
      "metadata": {
        "id": "Tsxo1EzP2_tB",
        "colab": {
          "base_uri": "https://localhost:8080/"
        },
        "outputId": "41ad719f-cd63-415c-e344-4d1afdeb4dde"
      },
      "source": [
        "loss, accuracy = model.evaluate(test_images, test_labels, verbose=1)\n",
        "print('Loss:', loss, '\\nAccuracy:', accuracy * 100, '%')"
      ],
      "execution_count": 15,
      "outputs": [
        {
          "output_type": "stream",
          "name": "stdout",
          "text": [
            "113/113 [==============================] - 1s 9ms/step - loss: 1.1304 - accuracy: 0.6021\n",
            "Loss: 1.130395531654358 \n",
            "Accuracy: 60.21175980567932 %\n"
          ]
        }
      ]
    }
  ]
}