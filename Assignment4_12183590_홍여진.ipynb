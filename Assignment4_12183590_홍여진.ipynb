{
  "nbformat": 4,
  "nbformat_minor": 0,
  "metadata": {
    "colab": {
      "name": " Assignment4_12183590_홍여진.ipynb",
      "provenance": [],
      "collapsed_sections": [],
      "authorship_tag": "ABX9TyMez8fDOyXYNNyLITepkvJf",
      "include_colab_link": true
    },
    "kernelspec": {
      "name": "python3",
      "display_name": "Python 3"
    },
    "language_info": {
      "name": "python"
    }
  },
  "cells": [
    {
      "cell_type": "markdown",
      "metadata": {
        "id": "view-in-github",
        "colab_type": "text"
      },
      "source": [
        "<a href=\"https://colab.research.google.com/github/hgo641/ai_assignments/blob/main/Assignment4_12183590_%ED%99%8D%EC%97%AC%EC%A7%84.ipynb\" target=\"_parent\"><img src=\"https://colab.research.google.com/assets/colab-badge.svg\" alt=\"Open In Colab\"/></a>"
      ]
    },
    {
      "cell_type": "markdown",
      "source": [
        "Assignment 4 1번"
      ],
      "metadata": {
        "id": "YO4U4Z5ztmt2"
      }
    },
    {
      "cell_type": "code",
      "execution_count": null,
      "metadata": {
        "id": "GlL3SYB2jtWM"
      },
      "outputs": [],
      "source": [
        "# 모듈 import\n",
        "import numpy as np\n",
        "from tensorflow.keras import layers\n",
        "from tensorflow import keras\n",
        "import matplotlib.pyplot as plt\n",
        "%matplotlib inline"
      ]
    },
    {
      "cell_type": "code",
      "source": [
        "# 0~9까지 10개의 수를 나타내야하므로 10\n",
        "num_classes = 10\n",
        "\n",
        "# input인 2d 이미지가 28x28x1 형태\n",
        "input_shape = (28, 28, 1)\n",
        "\n",
        "# keras에서 dataset을 불러옴\n",
        "(x_train, y_train), (x_test, y_test) = keras.datasets.mnist.load_data() "
      ],
      "metadata": {
        "id": "WT0nDiEIkT_T"
      },
      "execution_count": null,
      "outputs": []
    },
    {
      "cell_type": "code",
      "source": [
        "# 불러온 data들을 nomalize\n",
        "x_train = x_train.astype(\"float32\") / 255\n",
        "x_test = x_test.astype(\"float32\") / 255\n",
        "\n",
        "# data 차원수를 맞춰줌\n",
        "x_train = np.expand_dims(x_train, -1)\n",
        "x_test = np.expand_dims(x_test, -1)"
      ],
      "metadata": {
        "id": "C_rRt9c_lStW"
      },
      "execution_count": null,
      "outputs": []
    },
    {
      "cell_type": "code",
      "source": [
        "# 원핫벡터로 컨버터하여 신경망 아웃풋과 손실률을 구할 수 있는 카테고리로 맞춰줌\n",
        "y_train = keras.utils.to_categorical(y_train, num_classes)\n",
        "y_test = keras.utils.to_categorical(y_test, num_classes)"
      ],
      "metadata": {
        "id": "tEvYpCeflvFd"
      },
      "execution_count": null,
      "outputs": []
    },
    {
      "cell_type": "code",
      "source": [
        "# CNN 모델 생성\n",
        "model = keras.Sequential()\n",
        "model.add(keras.Input(shape = input_shape))\n",
        "# 32개의 3x3 filter 생성\n",
        "model.add(layers.Conv2D(32, kernel_size=(3, 3), activation='relu'))\n",
        "model.add(layers.MaxPooling2D(pool_size=(2, 2)))\n",
        "model.add(layers.Conv2D(64, kernel_size=(3, 3), activation='relu'))\n",
        "model.add(layers.MaxPooling2D(pool_size=(2, 2)))\n",
        "model.add(layers.Flatten())\n",
        "model.add(layers.Dropout(0.5))\n",
        "model.add(layers.Dense(num_classes, activation=\"softmax\"))\n",
        "model.summary()"
      ],
      "metadata": {
        "colab": {
          "base_uri": "https://localhost:8080/"
        },
        "id": "oeqQYhBinPY5",
        "outputId": "5dbb11bf-3b78-40a6-c9fa-167f83900009"
      },
      "execution_count": null,
      "outputs": [
        {
          "output_type": "stream",
          "name": "stdout",
          "text": [
            "Model: \"sequential_3\"\n",
            "_________________________________________________________________\n",
            " Layer (type)                Output Shape              Param #   \n",
            "=================================================================\n",
            " conv2d_6 (Conv2D)           (None, 26, 26, 32)        320       \n",
            "                                                                 \n",
            " max_pooling2d_6 (MaxPooling  (None, 13, 13, 32)       0         \n",
            " 2D)                                                             \n",
            "                                                                 \n",
            " conv2d_7 (Conv2D)           (None, 11, 11, 64)        18496     \n",
            "                                                                 \n",
            " max_pooling2d_7 (MaxPooling  (None, 5, 5, 64)         0         \n",
            " 2D)                                                             \n",
            "                                                                 \n",
            " flatten_3 (Flatten)         (None, 1600)              0         \n",
            "                                                                 \n",
            " dropout_3 (Dropout)         (None, 1600)              0         \n",
            "                                                                 \n",
            " dense_3 (Dense)             (None, 10)                16010     \n",
            "                                                                 \n",
            "=================================================================\n",
            "Total params: 34,826\n",
            "Trainable params: 34,826\n",
            "Non-trainable params: 0\n",
            "_________________________________________________________________\n"
          ]
        }
      ]
    },
    {
      "cell_type": "code",
      "source": [
        "# Training Parameters\n",
        "\n",
        "# Train data 를 나누는 크기\n",
        "batch_size = 128\n",
        "\n",
        "# 갖고있는 dataset을 모델에 몇 번 학습시킬건지\n",
        "epochs = 20\n",
        "\n",
        "# 손실함수, 정확도 설정\n",
        "model.compile(loss = \"categorical_crossentropy\", optimizer=\"adam\", metrics = ['accuracy'])\n",
        "\n",
        "# 모델 학습\n",
        "history = model.fit(x_train, y_train, batch_size = batch_size, epochs = epochs, validation_split=0.1)\n"
      ],
      "metadata": {
        "colab": {
          "base_uri": "https://localhost:8080/"
        },
        "id": "iucHrNI9qDIU",
        "outputId": "aaeadfe9-93bb-448b-c4ff-7a034b32a966"
      },
      "execution_count": null,
      "outputs": [
        {
          "output_type": "stream",
          "name": "stdout",
          "text": [
            "Epoch 1/20\n",
            "422/422 [==============================] - 42s 98ms/step - loss: 0.3739 - accuracy: 0.8898 - val_loss: 0.0820 - val_accuracy: 0.9768\n",
            "Epoch 2/20\n",
            "422/422 [==============================] - 41s 98ms/step - loss: 0.1100 - accuracy: 0.9675 - val_loss: 0.0528 - val_accuracy: 0.9868\n",
            "Epoch 3/20\n",
            "422/422 [==============================] - 45s 107ms/step - loss: 0.0840 - accuracy: 0.9739 - val_loss: 0.0466 - val_accuracy: 0.9870\n",
            "Epoch 4/20\n",
            "422/422 [==============================] - 45s 107ms/step - loss: 0.0713 - accuracy: 0.9779 - val_loss: 0.0416 - val_accuracy: 0.9892\n",
            "Epoch 5/20\n",
            "422/422 [==============================] - 46s 109ms/step - loss: 0.0611 - accuracy: 0.9813 - val_loss: 0.0386 - val_accuracy: 0.9893\n",
            "Epoch 6/20\n",
            "422/422 [==============================] - 41s 97ms/step - loss: 0.0550 - accuracy: 0.9831 - val_loss: 0.0353 - val_accuracy: 0.9912\n",
            "Epoch 7/20\n",
            "422/422 [==============================] - 47s 111ms/step - loss: 0.0491 - accuracy: 0.9849 - val_loss: 0.0344 - val_accuracy: 0.9915\n",
            "Epoch 8/20\n",
            "422/422 [==============================] - 41s 98ms/step - loss: 0.0485 - accuracy: 0.9853 - val_loss: 0.0332 - val_accuracy: 0.9902\n",
            "Epoch 9/20\n",
            "422/422 [==============================] - 40s 96ms/step - loss: 0.0427 - accuracy: 0.9865 - val_loss: 0.0301 - val_accuracy: 0.9918\n",
            "Epoch 10/20\n",
            "422/422 [==============================] - 44s 105ms/step - loss: 0.0418 - accuracy: 0.9864 - val_loss: 0.0343 - val_accuracy: 0.9902\n",
            "Epoch 11/20\n",
            "422/422 [==============================] - 40s 96ms/step - loss: 0.0398 - accuracy: 0.9871 - val_loss: 0.0307 - val_accuracy: 0.9907\n",
            "Epoch 12/20\n",
            "422/422 [==============================] - 43s 103ms/step - loss: 0.0368 - accuracy: 0.9885 - val_loss: 0.0318 - val_accuracy: 0.9913\n",
            "Epoch 13/20\n",
            "422/422 [==============================] - 40s 95ms/step - loss: 0.0346 - accuracy: 0.9887 - val_loss: 0.0293 - val_accuracy: 0.9913\n",
            "Epoch 14/20\n",
            "422/422 [==============================] - 42s 100ms/step - loss: 0.0339 - accuracy: 0.9890 - val_loss: 0.0309 - val_accuracy: 0.9913\n",
            "Epoch 15/20\n",
            "422/422 [==============================] - 41s 98ms/step - loss: 0.0323 - accuracy: 0.9895 - val_loss: 0.0326 - val_accuracy: 0.9912\n",
            "Epoch 16/20\n",
            "422/422 [==============================] - 43s 102ms/step - loss: 0.0301 - accuracy: 0.9900 - val_loss: 0.0337 - val_accuracy: 0.9907\n",
            "Epoch 17/20\n",
            "422/422 [==============================] - 43s 103ms/step - loss: 0.0301 - accuracy: 0.9899 - val_loss: 0.0288 - val_accuracy: 0.9925\n",
            "Epoch 18/20\n",
            "422/422 [==============================] - 48s 114ms/step - loss: 0.0278 - accuracy: 0.9907 - val_loss: 0.0301 - val_accuracy: 0.9923\n",
            "Epoch 19/20\n",
            "422/422 [==============================] - 41s 97ms/step - loss: 0.0295 - accuracy: 0.9904 - val_loss: 0.0301 - val_accuracy: 0.9915\n",
            "Epoch 20/20\n",
            "422/422 [==============================] - 40s 95ms/step - loss: 0.0259 - accuracy: 0.9909 - val_loss: 0.0312 - val_accuracy: 0.9922\n"
          ]
        }
      ]
    },
    {
      "cell_type": "code",
      "source": [
        "# Training and validataion accuracy와 loss 그래프 출력\n",
        "train_accuracy = history.history['accuracy']\n",
        "val_accuracy = history.history['val_accuracy']\n",
        "train_loss = history.history['loss']\n",
        "val_loss = history.history['val_loss']\n",
        "\n",
        "plt.plot(list(range(epochs)), train_accuracy, 'bo', label=\"Training accuracy\")\n",
        "plt.plot(list(range(epochs)), val_accuracy, 'b', label=\"Validation accuracy\")\n",
        "plt.title(\"Training and validation accuracy\")\n",
        "plt.legend()\n",
        "plt.show()\n",
        "\n",
        "plt.figure()\n",
        "plt.plot(list(range(epochs)), train_loss, 'bo', label='Training loss')\n",
        "plt.plot(list(range(epochs)), val_loss, 'b', label='Validation loss')\n",
        "plt.title('Training and validation loss')\n",
        "plt.legend()\n",
        "plt.show()"
      ],
      "metadata": {
        "colab": {
          "base_uri": "https://localhost:8080/",
          "height": 545
        },
        "id": "OfpDNsmRrqr_",
        "outputId": "1f73c27d-dff4-43fc-a3aa-9e9d032ec04a"
      },
      "execution_count": null,
      "outputs": [
        {
          "output_type": "display_data",
          "data": {
            "text/plain": [
              "<Figure size 432x288 with 1 Axes>"
            ],
            "image/png": "[encoded data removed]"
          },
          "metadata": {
            "needs_background": "light"
          }
        },
        {
          "output_type": "display_data",
          "data": {
            "text/plain": [
              "<Figure size 432x288 with 1 Axes>"
            ],
            "image/png": "[encoded data removed]"
          },
          "metadata": {
            "needs_background": "light"
          }
        }
      ]
    },
    {
      "cell_type": "code",
      "source": [
        "# 학습된 모델 평가 : loss 와 accracy 출력\n",
        "score = model.evaluate(x_test, y_test, verbose = 0)\n",
        "print(\"text loss:\", score[0])\n",
        "print(\"text accracy:\", score[1])"
      ],
      "metadata": {
        "colab": {
          "base_uri": "https://localhost:8080/"
        },
        "id": "XRgjPqRWr-r6",
        "outputId": "e6231ce8-21ff-4fa7-b6f7-547e37668b9a"
      },
      "execution_count": null,
      "outputs": [
        {
          "output_type": "stream",
          "name": "stdout",
          "text": [
            "text loss: 0.025036675855517387\n",
            "text accracy: 0.9919000267982483\n"
          ]
        }
      ]
    },
    {
      "cell_type": "code",
      "source": [
        "# 위에서 생성한 모델에 이미지 넣어보고 결과보기\n",
        "\n",
        "img_id = 0\n",
        "\n",
        "sample_test_image = x_test[img_id]\n",
        "sample_test_label = y_test[img_id]\n",
        "\n",
        "print(\"Image shape:\", sample_test_image.shape)\n",
        "print(\"True image label array:\", sample_test_label,\n",
        "      '\\nTrue Image label shape:', sample_test_label.shape,\n",
        "      '\\nTrue Image label:', np.argmax(sample_test_label))\n",
        "plt.imshow(sample_test_image.reshape(28, 28), interpolation = 'nearest')\n",
        "plt.show()\n",
        "\n",
        "prediction = model.predict(sample_test_image.reshape(1, 28, 28, 1))\n",
        "\n",
        "print(\"Predicted image label array:\", ['{0:0.3f}'.format(i) for i in prediction[0]],\n",
        "      '\\nPredicted image label shape:', prediction.shape,\n",
        "      '\\nPredicted image label:', np.argmax(prediction))"
      ],
      "metadata": {
        "colab": {
          "base_uri": "https://localhost:8080/",
          "height": 396
        },
        "id": "Ph_MpYsHsfWe",
        "outputId": "ff2a2af9-b089-4a27-fedb-bde6f4d710c8"
      },
      "execution_count": null,
      "outputs": [
        {
          "output_type": "stream",
          "name": "stdout",
          "text": [
            "Image shape: (28, 28, 1)\n",
            "True image label array: [0. 0. 0. 0. 0. 0. 0. 1. 0. 0.] \n",
            "True Image label shape: (10,) \n",
            "True Image label: 7\n"
          ]
        },
        {
          "output_type": "display_data",
          "data": {
            "text/plain": [
              "<Figure size 432x288 with 1 Axes>"
            ],
            "image/png": "[encoded data removed]"
          },
          "metadata": {
            "needs_background": "light"
          }
        },
        {
          "output_type": "stream",
          "name": "stdout",
          "text": [
            "Predicted image label array: ['0.000', '0.000', '0.000', '0.000', '0.000', '0.000', '0.000', '1.000', '0.000', '0.000'] \n",
            "Predicted image label shape: (1, 10) \n",
            "Predicted image label: 7\n"
          ]
        }
      ]
    },
    {
      "cell_type": "markdown",
      "source": [
        "2번\n",
        "\n"
      ],
      "metadata": {
        "id": "DR4KbPOFt12i"
      }
    },
    {
      "cell_type": "code",
      "source": [
        "# 위 모델과 다른 구조의 모델 생성\n",
        "# convolution 커널 사이즈 변경\n",
        "# convolution activation sigmoid로 변경\n",
        "model = keras.Sequential()\n",
        "model.add(keras.Input(shape = input_shape))\n",
        "\n",
        "\n",
        "model.add(layers.Conv2D(32, kernel_size=(5, 5), activation='sigmoid'))\n",
        "model.add(layers.MaxPooling2D(pool_size=(2, 2)))\n",
        "model.add(layers.Conv2D(64, kernel_size=(5, 5), activation='sigmoid'))\n",
        "model.add(layers.MaxPooling2D(pool_size=(2, 2)))\n",
        "model.add(layers.MaxPooling2D(pool_size=(2, 2)))\n",
        "model.add(layers.Flatten())\n",
        "model.add(layers.Dropout(0.5))\n",
        "model.add(layers.Dense(num_classes, activation=\"softmax\"))\n",
        "model.summary()"
      ],
      "metadata": {
        "colab": {
          "base_uri": "https://localhost:8080/"
        },
        "id": "ZmrZeNoPuFLd",
        "outputId": "9bc4fa6c-eba1-4519-c354-7a2dd64ba6ec"
      },
      "execution_count": null,
      "outputs": [
        {
          "output_type": "stream",
          "name": "stdout",
          "text": [
            "Model: \"sequential_6\"\n",
            "_________________________________________________________________\n",
            " Layer (type)                Output Shape              Param #   \n",
            "=================================================================\n",
            " conv2d_12 (Conv2D)          (None, 24, 24, 32)        832       \n",
            "                                                                 \n",
            " max_pooling2d_14 (MaxPoolin  (None, 12, 12, 32)       0         \n",
            " g2D)                                                            \n",
            "                                                                 \n",
            " conv2d_13 (Conv2D)          (None, 8, 8, 64)          51264     \n",
            "                                                                 \n",
            " max_pooling2d_15 (MaxPoolin  (None, 4, 4, 64)         0         \n",
            " g2D)                                                            \n",
            "                                                                 \n",
            " max_pooling2d_16 (MaxPoolin  (None, 2, 2, 64)         0         \n",
            " g2D)                                                            \n",
            "                                                                 \n",
            " flatten_6 (Flatten)         (None, 256)               0         \n",
            "                                                                 \n",
            " dropout_6 (Dropout)         (None, 256)               0         \n",
            "                                                                 \n",
            " dense_6 (Dense)             (None, 10)                2570      \n",
            "                                                                 \n",
            "=================================================================\n",
            "Total params: 54,666\n",
            "Trainable params: 54,666\n",
            "Non-trainable params: 0\n",
            "_________________________________________________________________\n"
          ]
        }
      ]
    },
    {
      "cell_type": "code",
      "source": [
        "# Training Parameters\n",
        "\n",
        "# Train data 를 나누는 크기\n",
        "batch_size = 128\n",
        "\n",
        "# 갖고있는 dataset을 모델에 몇 번 학습시킬건지\n",
        "epochs = 15\n",
        "\n",
        "# 손실함수, 정확도 설정\n",
        "model.compile(loss = \"categorical_crossentropy\", optimizer=\"adam\", metrics = ['accuracy'])\n",
        "\n",
        "# 모델 학습\n",
        "history = model.fit(x_train, y_train, batch_size = batch_size, epochs = epochs, validation_split=0.1)\n"
      ],
      "metadata": {
        "colab": {
          "base_uri": "https://localhost:8080/"
        },
        "id": "LgNBVS-1wm6V",
        "outputId": "5cae5e95-4d92-4ba3-d8c5-a0c9fbb3a6b9"
      },
      "execution_count": null,
      "outputs": [
        {
          "output_type": "stream",
          "name": "stdout",
          "text": [
            "Epoch 1/15\n",
            "422/422 [==============================] - 55s 128ms/step - loss: 1.8887 - accuracy: 0.3164 - val_loss: 0.5880 - val_accuracy: 0.8713\n",
            "Epoch 2/15\n",
            "422/422 [==============================] - 50s 119ms/step - loss: 0.5136 - accuracy: 0.8486 - val_loss: 0.2116 - val_accuracy: 0.9450\n",
            "Epoch 3/15\n",
            "422/422 [==============================] - 56s 132ms/step - loss: 0.3086 - accuracy: 0.9088 - val_loss: 0.1426 - val_accuracy: 0.9603\n",
            "Epoch 4/15\n",
            "422/422 [==============================] - 56s 133ms/step - loss: 0.2414 - accuracy: 0.9296 - val_loss: 0.1074 - val_accuracy: 0.9695\n",
            "Epoch 5/15\n",
            "422/422 [==============================] - 51s 121ms/step - loss: 0.1999 - accuracy: 0.9415 - val_loss: 0.0900 - val_accuracy: 0.9760\n",
            "Epoch 6/15\n",
            "422/422 [==============================] - 52s 123ms/step - loss: 0.1755 - accuracy: 0.9480 - val_loss: 0.0801 - val_accuracy: 0.9772\n",
            "Epoch 7/15\n",
            "422/422 [==============================] - 52s 122ms/step - loss: 0.1564 - accuracy: 0.9534 - val_loss: 0.0713 - val_accuracy: 0.9805\n",
            "Epoch 8/15\n",
            "422/422 [==============================] - 51s 120ms/step - loss: 0.1408 - accuracy: 0.9585 - val_loss: 0.0607 - val_accuracy: 0.9828\n",
            "Epoch 9/15\n",
            "422/422 [==============================] - 51s 121ms/step - loss: 0.1297 - accuracy: 0.9607 - val_loss: 0.0586 - val_accuracy: 0.9837\n",
            "Epoch 10/15\n",
            "422/422 [==============================] - 51s 121ms/step - loss: 0.1211 - accuracy: 0.9651 - val_loss: 0.0521 - val_accuracy: 0.9850\n",
            "Epoch 11/15\n",
            "422/422 [==============================] - 51s 121ms/step - loss: 0.1105 - accuracy: 0.9668 - val_loss: 0.0523 - val_accuracy: 0.9853\n",
            "Epoch 12/15\n",
            "422/422 [==============================] - 51s 121ms/step - loss: 0.1043 - accuracy: 0.9684 - val_loss: 0.0499 - val_accuracy: 0.9863\n",
            "Epoch 13/15\n",
            "422/422 [==============================] - 51s 121ms/step - loss: 0.0989 - accuracy: 0.9696 - val_loss: 0.0486 - val_accuracy: 0.9865\n",
            "Epoch 14/15\n",
            "422/422 [==============================] - 51s 121ms/step - loss: 0.0953 - accuracy: 0.9707 - val_loss: 0.0450 - val_accuracy: 0.9885\n",
            "Epoch 15/15\n",
            "422/422 [==============================] - 51s 121ms/step - loss: 0.0917 - accuracy: 0.9723 - val_loss: 0.0423 - val_accuracy: 0.9887\n"
          ]
        }
      ]
    },
    {
      "cell_type": "code",
      "source": [
        "# Training and validataion accuracy와 loss 그래프 출력\n",
        "train_accuracy = history.history['accuracy']\n",
        "val_accuracy = history.history['val_accuracy']\n",
        "train_loss = history.history['loss']\n",
        "val_loss = history.history['val_loss']\n",
        "\n",
        "plt.plot(list(range(epochs)), train_accuracy, 'bo', label=\"Training accuracy\")\n",
        "plt.plot(list(range(epochs)), val_accuracy, 'b', label=\"Validation accuracy\")\n",
        "plt.title(\"Training and validation accuracy\")\n",
        "plt.legend()\n",
        "plt.show()\n",
        "\n",
        "plt.figure()\n",
        "plt.plot(list(range(epochs)), train_loss, 'bo', label='Training loss')\n",
        "plt.plot(list(range(epochs)), val_loss, 'b', label='Validation loss')\n",
        "plt.title('Training and validation loss')\n",
        "plt.legend()\n",
        "plt.show()"
      ],
      "metadata": {
        "colab": {
          "base_uri": "https://localhost:8080/",
          "height": 545
        },
        "id": "-f8S5aRyw519",
        "outputId": "8d4eafdc-41c6-44ae-a300-7b52dd23c61b"
      },
      "execution_count": null,
      "outputs": [
        {
          "output_type": "display_data",
          "data": {
            "text/plain": [
              "<Figure size 432x288 with 1 Axes>"
            ],
            "image/png": "[encoded data removed]"
          },
          "metadata": {
            "needs_background": "light"
          }
        },
        {
          "output_type": "display_data",
          "data": {
            "text/plain": [
              "<Figure size 432x288 with 1 Axes>"
            ],
            "image/png": "[encoded data removed]"
          },
          "metadata": {
            "needs_background": "light"
          }
        }
      ]
    },
    {
      "cell_type": "code",
      "source": [
        "# 학습된 모델 평가 : loss 와 accracy 출력\n",
        "score = model.evaluate(x_test, y_test, verbose = 0)\n",
        "print(\"text loss:\", score[0])\n",
        "print(\"text accracy:\", score[1])"
      ],
      "metadata": {
        "colab": {
          "base_uri": "https://localhost:8080/"
        },
        "id": "XCOusyCRxAVf",
        "outputId": "45052417-834e-47b3-a228-6eb7d1e76366"
      },
      "execution_count": null,
      "outputs": [
        {
          "output_type": "stream",
          "name": "stdout",
          "text": [
            "text loss: 0.04573265090584755\n",
            "text accracy: 0.9865000247955322\n"
          ]
        }
      ]
    },
    {
      "cell_type": "code",
      "source": [
        "# 위에서 생성한 모델에 이미지 넣어보고 결과보기\n",
        "img_id = 0\n",
        "\n",
        "sample_test_image = x_test[img_id]\n",
        "sample_test_label = y_test[img_id]\n",
        "\n",
        "print(\"Image sahpe:\", sample_test_image.shape)\n",
        "print(\"true image label array:\", sample_test_label,\n",
        "      '\\nTrue Image label shape:', sample_test_label.shape,\n",
        "      '\\nTrue Image label:', np.argmax(sample_test_label))\n",
        "plt.imshow(sample_test_image.reshape(28, 28), interpolation = 'nearest')\n",
        "plt.show()\n",
        "\n",
        "prediction = model.predict(sample_test_image.reshape(1, 28, 28, 1))\n",
        "\n",
        "print(\"predicted image label array:\", ['{0:0.3f}'.format(i) for i in prediction[0]],\n",
        "      '\\npredicted image label shape:', prediction.shape,\n",
        "      '\\npredicted image label:', np.argmax(prediction))"
      ],
      "metadata": {
        "colab": {
          "base_uri": "https://localhost:8080/",
          "height": 396
        },
        "id": "hzdwAHuJxDVF",
        "outputId": "cb12cfe9-0b19-42a1-abca-5947f91c28f9"
      },
      "execution_count": null,
      "outputs": [
        {
          "output_type": "stream",
          "name": "stdout",
          "text": [
            "Image sahpe: (28, 28, 1)\n",
            "true image label array: [0. 0. 0. 0. 0. 0. 0. 1. 0. 0.] \n",
            "True Image label shape: (10,) \n",
            "True Image label: 7\n"
          ]
        },
        {
          "output_type": "display_data",
          "data": {
            "text/plain": [
              "<Figure size 432x288 with 1 Axes>"
            ],
            "image/png": "[encoded data removed]"
          },
          "metadata": {
            "needs_background": "light"
          }
        },
        {
          "output_type": "stream",
          "name": "stdout",
          "text": [
            "predicted image label array: ['0.000', '0.000', '0.000', '0.000', '0.000', '0.000', '0.000', '1.000', '0.000', '0.000'] \n",
            "predicted image label shape: (1, 10) \n",
            "predicted image label: 7\n"
          ]
        }
      ]
    },
    {
      "cell_type": "markdown",
      "source": [
        "<h1>Summary</h1>\n",
        "\n",
        "이번 과제를 통해 CNN 모델을 생성해 Convolution과 maxpooling을 해볼 수 있었다. CNN은 이미지의 공간 정보를 유지한 상태로 학습이 가능한 모델이기에 이미지 특징을 추출하는데 자주 사용된다.\n",
        "\n",
        "numpy의 expand_dims 함수를 통해 numpy배열의 차원을 추가하고 줄일 수 있음을 알게되었다. input과 output의 차원수를 일치시키기 위해 expand_dims 함수를 사용했다.\n",
        "\n",
        "데이터를 중복없이 표현하기 위해 원핫벡터를 사용할 수 있음을 이번 과제 설명 영상을 통해 알게되었다. 0~9 까지의 각 숫자에 고유한 인덱스를 부여해 원핫벡터로 표현했다.\n",
        "\n",
        "CNN 모델을 생성하고 summary() 함수 출력 결과를 통해 Maxpooling 과정을 통해 layer가 resizing되는 것을 확인할 수 있었다. 위에서는 pool_size를 (2, 2)로 설정했기에 size가 2배로 줄어드는 것을 볼 수 있다.\n",
        "\n",
        "이전 과제에서 학습했던 sigmoid외 ReLu, softmax라는 활성화 함수가 있음을 알게되었고 사용해볼 수 있었다. \n"
      ],
      "metadata": {
        "id": "O3oPZDZfxUuy"
      }
    }
  ]
}